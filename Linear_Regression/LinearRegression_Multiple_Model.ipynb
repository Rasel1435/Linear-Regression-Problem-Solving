{
 "cells": [
  {
   "cell_type": "markdown",
   "metadata": {},
   "source": [
    "# 8 Steps Of Machine Learning\n",
    "* Data Gathering\n",
    "* Data pre-processing\n",
    "* Feature Engineering\n",
    "* Choosing Model\n",
    "* Training Model\n",
    "* Test Model/ Model Evaluation\n",
    "* Parameter Tuning\n",
    "* Prediction"
   ]
  },
  {
   "cell_type": "code",
   "execution_count": 1,
   "metadata": {},
   "outputs": [],
   "source": [
    "import numpy as np\n",
    "import matplotlib.pyplot as plt\n",
    "import pandas as pd\n",
    "import seaborn as sns\n",
    "%matplotlib inline"
   ]
  },
  {
   "cell_type": "code",
   "execution_count": 2,
   "metadata": {},
   "outputs": [
    {
     "data": {
      "text/html": [
       "<div>\n",
       "<style scoped>\n",
       "    .dataframe tbody tr th:only-of-type {\n",
       "        vertical-align: middle;\n",
       "    }\n",
       "\n",
       "    .dataframe tbody tr th {\n",
       "        vertical-align: top;\n",
       "    }\n",
       "\n",
       "    .dataframe thead th {\n",
       "        text-align: right;\n",
       "    }\n",
       "</style>\n",
       "<table border=\"1\" class=\"dataframe\">\n",
       "  <thead>\n",
       "    <tr style=\"text-align: right;\">\n",
       "      <th></th>\n",
       "      <th>MODELYEAR</th>\n",
       "      <th>MAKE</th>\n",
       "      <th>MODEL</th>\n",
       "      <th>VEHICLECLASS</th>\n",
       "      <th>ENGINESIZE</th>\n",
       "      <th>CYLINDERS</th>\n",
       "      <th>TRANSMISSION</th>\n",
       "      <th>FUELTYPE</th>\n",
       "      <th>FUELCONSUMPTION_CITY</th>\n",
       "      <th>FUELCONSUMPTION_HWY</th>\n",
       "      <th>FUELCONSUMPTION_COMB</th>\n",
       "      <th>FUELCONSUMPTION_COMB_MPG</th>\n",
       "      <th>CO2EMISSIONS</th>\n",
       "    </tr>\n",
       "  </thead>\n",
       "  <tbody>\n",
       "    <tr>\n",
       "      <th>0</th>\n",
       "      <td>2014</td>\n",
       "      <td>ACURA</td>\n",
       "      <td>ILX</td>\n",
       "      <td>COMPACT</td>\n",
       "      <td>2.0</td>\n",
       "      <td>4</td>\n",
       "      <td>AS5</td>\n",
       "      <td>Z</td>\n",
       "      <td>9.9</td>\n",
       "      <td>6.7</td>\n",
       "      <td>8.5</td>\n",
       "      <td>33</td>\n",
       "      <td>196</td>\n",
       "    </tr>\n",
       "    <tr>\n",
       "      <th>1</th>\n",
       "      <td>2014</td>\n",
       "      <td>ACURA</td>\n",
       "      <td>ILX</td>\n",
       "      <td>COMPACT</td>\n",
       "      <td>2.4</td>\n",
       "      <td>4</td>\n",
       "      <td>M6</td>\n",
       "      <td>Z</td>\n",
       "      <td>11.2</td>\n",
       "      <td>7.7</td>\n",
       "      <td>9.6</td>\n",
       "      <td>29</td>\n",
       "      <td>221</td>\n",
       "    </tr>\n",
       "    <tr>\n",
       "      <th>2</th>\n",
       "      <td>2014</td>\n",
       "      <td>ACURA</td>\n",
       "      <td>ILX HYBRID</td>\n",
       "      <td>COMPACT</td>\n",
       "      <td>1.5</td>\n",
       "      <td>4</td>\n",
       "      <td>AV7</td>\n",
       "      <td>Z</td>\n",
       "      <td>6.0</td>\n",
       "      <td>5.8</td>\n",
       "      <td>5.9</td>\n",
       "      <td>48</td>\n",
       "      <td>136</td>\n",
       "    </tr>\n",
       "    <tr>\n",
       "      <th>3</th>\n",
       "      <td>2014</td>\n",
       "      <td>ACURA</td>\n",
       "      <td>MDX 4WD</td>\n",
       "      <td>SUV - SMALL</td>\n",
       "      <td>3.5</td>\n",
       "      <td>6</td>\n",
       "      <td>AS6</td>\n",
       "      <td>Z</td>\n",
       "      <td>12.7</td>\n",
       "      <td>9.1</td>\n",
       "      <td>11.1</td>\n",
       "      <td>25</td>\n",
       "      <td>255</td>\n",
       "    </tr>\n",
       "    <tr>\n",
       "      <th>4</th>\n",
       "      <td>2014</td>\n",
       "      <td>ACURA</td>\n",
       "      <td>RDX AWD</td>\n",
       "      <td>SUV - SMALL</td>\n",
       "      <td>3.5</td>\n",
       "      <td>6</td>\n",
       "      <td>AS6</td>\n",
       "      <td>Z</td>\n",
       "      <td>12.1</td>\n",
       "      <td>8.7</td>\n",
       "      <td>10.6</td>\n",
       "      <td>27</td>\n",
       "      <td>244</td>\n",
       "    </tr>\n",
       "  </tbody>\n",
       "</table>\n",
       "</div>"
      ],
      "text/plain": [
       "   MODELYEAR   MAKE       MODEL VEHICLECLASS  ENGINESIZE  CYLINDERS  \\\n",
       "0       2014  ACURA         ILX      COMPACT         2.0          4   \n",
       "1       2014  ACURA         ILX      COMPACT         2.4          4   \n",
       "2       2014  ACURA  ILX HYBRID      COMPACT         1.5          4   \n",
       "3       2014  ACURA     MDX 4WD  SUV - SMALL         3.5          6   \n",
       "4       2014  ACURA     RDX AWD  SUV - SMALL         3.5          6   \n",
       "\n",
       "  TRANSMISSION FUELTYPE  FUELCONSUMPTION_CITY  FUELCONSUMPTION_HWY  \\\n",
       "0          AS5        Z                   9.9                  6.7   \n",
       "1           M6        Z                  11.2                  7.7   \n",
       "2          AV7        Z                   6.0                  5.8   \n",
       "3          AS6        Z                  12.7                  9.1   \n",
       "4          AS6        Z                  12.1                  8.7   \n",
       "\n",
       "   FUELCONSUMPTION_COMB  FUELCONSUMPTION_COMB_MPG  CO2EMISSIONS  \n",
       "0                   8.5                        33           196  \n",
       "1                   9.6                        29           221  \n",
       "2                   5.9                        48           136  \n",
       "3                  11.1                        25           255  \n",
       "4                  10.6                        27           244  "
      ]
     },
     "execution_count": 2,
     "metadata": {},
     "output_type": "execute_result"
    }
   ],
   "source": [
    "# Data Loading\n",
    "data = pd.read_csv(r'data/FuelConsumption.csv')\n",
    "data.head()"
   ]
  },
  {
   "cell_type": "code",
   "execution_count": 3,
   "metadata": {},
   "outputs": [
    {
     "name": "stdout",
     "output_type": "stream",
     "text": [
      "<class 'pandas.core.frame.DataFrame'>\n",
      "RangeIndex: 1067 entries, 0 to 1066\n",
      "Data columns (total 13 columns):\n",
      " #   Column                    Non-Null Count  Dtype  \n",
      "---  ------                    --------------  -----  \n",
      " 0   MODELYEAR                 1067 non-null   int64  \n",
      " 1   MAKE                      1067 non-null   object \n",
      " 2   MODEL                     1067 non-null   object \n",
      " 3   VEHICLECLASS              1067 non-null   object \n",
      " 4   ENGINESIZE                1067 non-null   float64\n",
      " 5   CYLINDERS                 1067 non-null   int64  \n",
      " 6   TRANSMISSION              1067 non-null   object \n",
      " 7   FUELTYPE                  1067 non-null   object \n",
      " 8   FUELCONSUMPTION_CITY      1067 non-null   float64\n",
      " 9   FUELCONSUMPTION_HWY       1067 non-null   float64\n",
      " 10  FUELCONSUMPTION_COMB      1067 non-null   float64\n",
      " 11  FUELCONSUMPTION_COMB_MPG  1067 non-null   int64  \n",
      " 12  CO2EMISSIONS              1067 non-null   int64  \n",
      "dtypes: float64(4), int64(4), object(5)\n",
      "memory usage: 108.5+ KB\n"
     ]
    }
   ],
   "source": [
    "data.info()"
   ]
  },
  {
   "cell_type": "code",
   "execution_count": 4,
   "metadata": {},
   "outputs": [
    {
     "data": {
      "text/html": [
       "<div>\n",
       "<style scoped>\n",
       "    .dataframe tbody tr th:only-of-type {\n",
       "        vertical-align: middle;\n",
       "    }\n",
       "\n",
       "    .dataframe tbody tr th {\n",
       "        vertical-align: top;\n",
       "    }\n",
       "\n",
       "    .dataframe thead th {\n",
       "        text-align: right;\n",
       "    }\n",
       "</style>\n",
       "<table border=\"1\" class=\"dataframe\">\n",
       "  <thead>\n",
       "    <tr style=\"text-align: right;\">\n",
       "      <th></th>\n",
       "      <th>MODELYEAR</th>\n",
       "      <th>ENGINESIZE</th>\n",
       "      <th>CYLINDERS</th>\n",
       "      <th>FUELCONSUMPTION_CITY</th>\n",
       "      <th>FUELCONSUMPTION_HWY</th>\n",
       "      <th>FUELCONSUMPTION_COMB</th>\n",
       "      <th>FUELCONSUMPTION_COMB_MPG</th>\n",
       "      <th>CO2EMISSIONS</th>\n",
       "    </tr>\n",
       "  </thead>\n",
       "  <tbody>\n",
       "    <tr>\n",
       "      <th>count</th>\n",
       "      <td>1067.0</td>\n",
       "      <td>1067.000000</td>\n",
       "      <td>1067.000000</td>\n",
       "      <td>1067.000000</td>\n",
       "      <td>1067.000000</td>\n",
       "      <td>1067.000000</td>\n",
       "      <td>1067.000000</td>\n",
       "      <td>1067.000000</td>\n",
       "    </tr>\n",
       "    <tr>\n",
       "      <th>mean</th>\n",
       "      <td>2014.0</td>\n",
       "      <td>3.346298</td>\n",
       "      <td>5.794752</td>\n",
       "      <td>13.296532</td>\n",
       "      <td>9.474602</td>\n",
       "      <td>11.580881</td>\n",
       "      <td>26.441425</td>\n",
       "      <td>256.228679</td>\n",
       "    </tr>\n",
       "    <tr>\n",
       "      <th>std</th>\n",
       "      <td>0.0</td>\n",
       "      <td>1.415895</td>\n",
       "      <td>1.797447</td>\n",
       "      <td>4.101253</td>\n",
       "      <td>2.794510</td>\n",
       "      <td>3.485595</td>\n",
       "      <td>7.468702</td>\n",
       "      <td>63.372304</td>\n",
       "    </tr>\n",
       "    <tr>\n",
       "      <th>min</th>\n",
       "      <td>2014.0</td>\n",
       "      <td>1.000000</td>\n",
       "      <td>3.000000</td>\n",
       "      <td>4.600000</td>\n",
       "      <td>4.900000</td>\n",
       "      <td>4.700000</td>\n",
       "      <td>11.000000</td>\n",
       "      <td>108.000000</td>\n",
       "    </tr>\n",
       "    <tr>\n",
       "      <th>25%</th>\n",
       "      <td>2014.0</td>\n",
       "      <td>2.000000</td>\n",
       "      <td>4.000000</td>\n",
       "      <td>10.250000</td>\n",
       "      <td>7.500000</td>\n",
       "      <td>9.000000</td>\n",
       "      <td>21.000000</td>\n",
       "      <td>207.000000</td>\n",
       "    </tr>\n",
       "    <tr>\n",
       "      <th>50%</th>\n",
       "      <td>2014.0</td>\n",
       "      <td>3.400000</td>\n",
       "      <td>6.000000</td>\n",
       "      <td>12.600000</td>\n",
       "      <td>8.800000</td>\n",
       "      <td>10.900000</td>\n",
       "      <td>26.000000</td>\n",
       "      <td>251.000000</td>\n",
       "    </tr>\n",
       "    <tr>\n",
       "      <th>75%</th>\n",
       "      <td>2014.0</td>\n",
       "      <td>4.300000</td>\n",
       "      <td>8.000000</td>\n",
       "      <td>15.550000</td>\n",
       "      <td>10.850000</td>\n",
       "      <td>13.350000</td>\n",
       "      <td>31.000000</td>\n",
       "      <td>294.000000</td>\n",
       "    </tr>\n",
       "    <tr>\n",
       "      <th>max</th>\n",
       "      <td>2014.0</td>\n",
       "      <td>8.400000</td>\n",
       "      <td>12.000000</td>\n",
       "      <td>30.200000</td>\n",
       "      <td>20.500000</td>\n",
       "      <td>25.800000</td>\n",
       "      <td>60.000000</td>\n",
       "      <td>488.000000</td>\n",
       "    </tr>\n",
       "  </tbody>\n",
       "</table>\n",
       "</div>"
      ],
      "text/plain": [
       "       MODELYEAR   ENGINESIZE    CYLINDERS  FUELCONSUMPTION_CITY  \\\n",
       "count     1067.0  1067.000000  1067.000000           1067.000000   \n",
       "mean      2014.0     3.346298     5.794752             13.296532   \n",
       "std          0.0     1.415895     1.797447              4.101253   \n",
       "min       2014.0     1.000000     3.000000              4.600000   \n",
       "25%       2014.0     2.000000     4.000000             10.250000   \n",
       "50%       2014.0     3.400000     6.000000             12.600000   \n",
       "75%       2014.0     4.300000     8.000000             15.550000   \n",
       "max       2014.0     8.400000    12.000000             30.200000   \n",
       "\n",
       "       FUELCONSUMPTION_HWY  FUELCONSUMPTION_COMB  FUELCONSUMPTION_COMB_MPG  \\\n",
       "count          1067.000000           1067.000000               1067.000000   \n",
       "mean              9.474602             11.580881                 26.441425   \n",
       "std               2.794510              3.485595                  7.468702   \n",
       "min               4.900000              4.700000                 11.000000   \n",
       "25%               7.500000              9.000000                 21.000000   \n",
       "50%               8.800000             10.900000                 26.000000   \n",
       "75%              10.850000             13.350000                 31.000000   \n",
       "max              20.500000             25.800000                 60.000000   \n",
       "\n",
       "       CO2EMISSIONS  \n",
       "count   1067.000000  \n",
       "mean     256.228679  \n",
       "std       63.372304  \n",
       "min      108.000000  \n",
       "25%      207.000000  \n",
       "50%      251.000000  \n",
       "75%      294.000000  \n",
       "max      488.000000  "
      ]
     },
     "execution_count": 4,
     "metadata": {},
     "output_type": "execute_result"
    }
   ],
   "source": [
    "data.describe()"
   ]
  },
  {
   "cell_type": "code",
   "execution_count": 5,
   "metadata": {},
   "outputs": [],
   "source": [
    "data.drop(columns=[\"MODELYEAR\",\"MAKE\",\"MODEL\", \"TRANSMISSION\"], inplace=True)"
   ]
  },
  {
   "cell_type": "code",
   "execution_count": 6,
   "metadata": {},
   "outputs": [
    {
     "data": {
      "text/plain": [
       "FUELTYPE\n",
       "X           514\n",
       "Z           434\n",
       "E            92\n",
       "D            27\n",
       "dtype: int64"
      ]
     },
     "execution_count": 6,
     "metadata": {},
     "output_type": "execute_result"
    }
   ],
   "source": [
    "data[['FUELTYPE']].value_counts()"
   ]
  },
  {
   "cell_type": "code",
   "execution_count": 7,
   "metadata": {},
   "outputs": [
    {
     "data": {
      "text/plain": [
       "VEHICLECLASS            \n",
       "MID-SIZE                    178\n",
       "COMPACT                     172\n",
       "SUV - SMALL                 154\n",
       "SUV - STANDARD              110\n",
       "FULL-SIZE                    86\n",
       "TWO-SEATER                   71\n",
       "SUBCOMPACT                   65\n",
       "PICKUP TRUCK - STANDARD      62\n",
       "MINICOMPACT                  47\n",
       "STATION WAGON - SMALL        36\n",
       "VAN - PASSENGER              25\n",
       "VAN - CARGO                  22\n",
       "MINIVAN                      14\n",
       "PICKUP TRUCK - SMALL         12\n",
       "SPECIAL PURPOSE VEHICLE       7\n",
       "STATION WAGON - MID-SIZE      6\n",
       "dtype: int64"
      ]
     },
     "execution_count": 7,
     "metadata": {},
     "output_type": "execute_result"
    }
   ],
   "source": [
    "data[['VEHICLECLASS']].value_counts()"
   ]
  },
  {
   "cell_type": "code",
   "execution_count": 8,
   "metadata": {},
   "outputs": [],
   "source": [
    "data.drop(columns=['VEHICLECLASS', 'FUELTYPE'], inplace=True)"
   ]
  },
  {
   "cell_type": "code",
   "execution_count": 9,
   "metadata": {},
   "outputs": [
    {
     "data": {
      "text/html": [
       "<div>\n",
       "<style scoped>\n",
       "    .dataframe tbody tr th:only-of-type {\n",
       "        vertical-align: middle;\n",
       "    }\n",
       "\n",
       "    .dataframe tbody tr th {\n",
       "        vertical-align: top;\n",
       "    }\n",
       "\n",
       "    .dataframe thead th {\n",
       "        text-align: right;\n",
       "    }\n",
       "</style>\n",
       "<table border=\"1\" class=\"dataframe\">\n",
       "  <thead>\n",
       "    <tr style=\"text-align: right;\">\n",
       "      <th></th>\n",
       "      <th>ENGINESIZE</th>\n",
       "      <th>CYLINDERS</th>\n",
       "      <th>FUELCONSUMPTION_CITY</th>\n",
       "      <th>FUELCONSUMPTION_HWY</th>\n",
       "      <th>FUELCONSUMPTION_COMB</th>\n",
       "      <th>FUELCONSUMPTION_COMB_MPG</th>\n",
       "      <th>CO2EMISSIONS</th>\n",
       "    </tr>\n",
       "  </thead>\n",
       "  <tbody>\n",
       "    <tr>\n",
       "      <th>0</th>\n",
       "      <td>2.0</td>\n",
       "      <td>4</td>\n",
       "      <td>9.9</td>\n",
       "      <td>6.7</td>\n",
       "      <td>8.5</td>\n",
       "      <td>33</td>\n",
       "      <td>196</td>\n",
       "    </tr>\n",
       "    <tr>\n",
       "      <th>1</th>\n",
       "      <td>2.4</td>\n",
       "      <td>4</td>\n",
       "      <td>11.2</td>\n",
       "      <td>7.7</td>\n",
       "      <td>9.6</td>\n",
       "      <td>29</td>\n",
       "      <td>221</td>\n",
       "    </tr>\n",
       "    <tr>\n",
       "      <th>2</th>\n",
       "      <td>1.5</td>\n",
       "      <td>4</td>\n",
       "      <td>6.0</td>\n",
       "      <td>5.8</td>\n",
       "      <td>5.9</td>\n",
       "      <td>48</td>\n",
       "      <td>136</td>\n",
       "    </tr>\n",
       "    <tr>\n",
       "      <th>3</th>\n",
       "      <td>3.5</td>\n",
       "      <td>6</td>\n",
       "      <td>12.7</td>\n",
       "      <td>9.1</td>\n",
       "      <td>11.1</td>\n",
       "      <td>25</td>\n",
       "      <td>255</td>\n",
       "    </tr>\n",
       "    <tr>\n",
       "      <th>4</th>\n",
       "      <td>3.5</td>\n",
       "      <td>6</td>\n",
       "      <td>12.1</td>\n",
       "      <td>8.7</td>\n",
       "      <td>10.6</td>\n",
       "      <td>27</td>\n",
       "      <td>244</td>\n",
       "    </tr>\n",
       "  </tbody>\n",
       "</table>\n",
       "</div>"
      ],
      "text/plain": [
       "   ENGINESIZE  CYLINDERS  FUELCONSUMPTION_CITY  FUELCONSUMPTION_HWY  \\\n",
       "0         2.0          4                   9.9                  6.7   \n",
       "1         2.4          4                  11.2                  7.7   \n",
       "2         1.5          4                   6.0                  5.8   \n",
       "3         3.5          6                  12.7                  9.1   \n",
       "4         3.5          6                  12.1                  8.7   \n",
       "\n",
       "   FUELCONSUMPTION_COMB  FUELCONSUMPTION_COMB_MPG  CO2EMISSIONS  \n",
       "0                   8.5                        33           196  \n",
       "1                   9.6                        29           221  \n",
       "2                   5.9                        48           136  \n",
       "3                  11.1                        25           255  \n",
       "4                  10.6                        27           244  "
      ]
     },
     "execution_count": 9,
     "metadata": {},
     "output_type": "execute_result"
    }
   ],
   "source": [
    "data.head()"
   ]
  },
  {
   "cell_type": "code",
   "execution_count": 10,
   "metadata": {},
   "outputs": [
    {
     "data": {
      "text/html": [
       "<div>\n",
       "<style scoped>\n",
       "    .dataframe tbody tr th:only-of-type {\n",
       "        vertical-align: middle;\n",
       "    }\n",
       "\n",
       "    .dataframe tbody tr th {\n",
       "        vertical-align: top;\n",
       "    }\n",
       "\n",
       "    .dataframe thead th {\n",
       "        text-align: right;\n",
       "    }\n",
       "</style>\n",
       "<table border=\"1\" class=\"dataframe\">\n",
       "  <thead>\n",
       "    <tr style=\"text-align: right;\">\n",
       "      <th></th>\n",
       "      <th>ENGINESIZE</th>\n",
       "      <th>CYLINDERS</th>\n",
       "      <th>FUELCONSUMPTION_CITY</th>\n",
       "      <th>FUELCONSUMPTION_HWY</th>\n",
       "      <th>FUELCONSUMPTION_COMB</th>\n",
       "      <th>FUELCONSUMPTION_COMB_MPG</th>\n",
       "      <th>CO2EMISSIONS</th>\n",
       "    </tr>\n",
       "  </thead>\n",
       "  <tbody>\n",
       "    <tr>\n",
       "      <th>count</th>\n",
       "      <td>1067.000000</td>\n",
       "      <td>1067.000000</td>\n",
       "      <td>1067.000000</td>\n",
       "      <td>1067.000000</td>\n",
       "      <td>1067.000000</td>\n",
       "      <td>1067.000000</td>\n",
       "      <td>1067.000000</td>\n",
       "    </tr>\n",
       "    <tr>\n",
       "      <th>mean</th>\n",
       "      <td>3.346298</td>\n",
       "      <td>5.794752</td>\n",
       "      <td>13.296532</td>\n",
       "      <td>9.474602</td>\n",
       "      <td>11.580881</td>\n",
       "      <td>26.441425</td>\n",
       "      <td>256.228679</td>\n",
       "    </tr>\n",
       "    <tr>\n",
       "      <th>std</th>\n",
       "      <td>1.415895</td>\n",
       "      <td>1.797447</td>\n",
       "      <td>4.101253</td>\n",
       "      <td>2.794510</td>\n",
       "      <td>3.485595</td>\n",
       "      <td>7.468702</td>\n",
       "      <td>63.372304</td>\n",
       "    </tr>\n",
       "    <tr>\n",
       "      <th>min</th>\n",
       "      <td>1.000000</td>\n",
       "      <td>3.000000</td>\n",
       "      <td>4.600000</td>\n",
       "      <td>4.900000</td>\n",
       "      <td>4.700000</td>\n",
       "      <td>11.000000</td>\n",
       "      <td>108.000000</td>\n",
       "    </tr>\n",
       "    <tr>\n",
       "      <th>25%</th>\n",
       "      <td>2.000000</td>\n",
       "      <td>4.000000</td>\n",
       "      <td>10.250000</td>\n",
       "      <td>7.500000</td>\n",
       "      <td>9.000000</td>\n",
       "      <td>21.000000</td>\n",
       "      <td>207.000000</td>\n",
       "    </tr>\n",
       "    <tr>\n",
       "      <th>50%</th>\n",
       "      <td>3.400000</td>\n",
       "      <td>6.000000</td>\n",
       "      <td>12.600000</td>\n",
       "      <td>8.800000</td>\n",
       "      <td>10.900000</td>\n",
       "      <td>26.000000</td>\n",
       "      <td>251.000000</td>\n",
       "    </tr>\n",
       "    <tr>\n",
       "      <th>75%</th>\n",
       "      <td>4.300000</td>\n",
       "      <td>8.000000</td>\n",
       "      <td>15.550000</td>\n",
       "      <td>10.850000</td>\n",
       "      <td>13.350000</td>\n",
       "      <td>31.000000</td>\n",
       "      <td>294.000000</td>\n",
       "    </tr>\n",
       "    <tr>\n",
       "      <th>max</th>\n",
       "      <td>8.400000</td>\n",
       "      <td>12.000000</td>\n",
       "      <td>30.200000</td>\n",
       "      <td>20.500000</td>\n",
       "      <td>25.800000</td>\n",
       "      <td>60.000000</td>\n",
       "      <td>488.000000</td>\n",
       "    </tr>\n",
       "  </tbody>\n",
       "</table>\n",
       "</div>"
      ],
      "text/plain": [
       "        ENGINESIZE    CYLINDERS  FUELCONSUMPTION_CITY  FUELCONSUMPTION_HWY  \\\n",
       "count  1067.000000  1067.000000           1067.000000          1067.000000   \n",
       "mean      3.346298     5.794752             13.296532             9.474602   \n",
       "std       1.415895     1.797447              4.101253             2.794510   \n",
       "min       1.000000     3.000000              4.600000             4.900000   \n",
       "25%       2.000000     4.000000             10.250000             7.500000   \n",
       "50%       3.400000     6.000000             12.600000             8.800000   \n",
       "75%       4.300000     8.000000             15.550000            10.850000   \n",
       "max       8.400000    12.000000             30.200000            20.500000   \n",
       "\n",
       "       FUELCONSUMPTION_COMB  FUELCONSUMPTION_COMB_MPG  CO2EMISSIONS  \n",
       "count           1067.000000               1067.000000   1067.000000  \n",
       "mean              11.580881                 26.441425    256.228679  \n",
       "std                3.485595                  7.468702     63.372304  \n",
       "min                4.700000                 11.000000    108.000000  \n",
       "25%                9.000000                 21.000000    207.000000  \n",
       "50%               10.900000                 26.000000    251.000000  \n",
       "75%               13.350000                 31.000000    294.000000  \n",
       "max               25.800000                 60.000000    488.000000  "
      ]
     },
     "execution_count": 10,
     "metadata": {},
     "output_type": "execute_result"
    }
   ],
   "source": [
    "data.describe()"
   ]
  },
  {
   "cell_type": "code",
   "execution_count": 11,
   "metadata": {},
   "outputs": [
    {
     "data": {
      "text/plain": [
       "array([[<AxesSubplot:title={'center':'ENGINESIZE'}>]], dtype=object)"
      ]
     },
     "execution_count": 11,
     "metadata": {},
     "output_type": "execute_result"
    },
    {
     "data": {
      "image/png": "[encoded data removed]",
      "text/plain": [
       "<Figure size 432x288 with 1 Axes>"
      ]
     },
     "metadata": {
      "needs_background": "light"
     },
     "output_type": "display_data"
    }
   ],
   "source": [
    "data[['ENGINESIZE']].hist()"
   ]
  },
  {
   "cell_type": "code",
   "execution_count": 12,
   "metadata": {},
   "outputs": [
    {
     "data": {
      "text/plain": [
       "array([[<AxesSubplot:title={'center':'CYLINDERS'}>]], dtype=object)"
      ]
     },
     "execution_count": 12,
     "metadata": {},
     "output_type": "execute_result"
    },
    {
     "data": {
      "image/png": "[encoded data removed]",
      "text/plain": [
       "<Figure size 432x288 with 1 Axes>"
      ]
     },
     "metadata": {
      "needs_background": "light"
     },
     "output_type": "display_data"
    }
   ],
   "source": [
    "data[['CYLINDERS']].hist()"
   ]
  },
  {
   "cell_type": "code",
   "execution_count": 13,
   "metadata": {},
   "outputs": [
    {
     "data": {
      "text/plain": [
       "array([[<AxesSubplot:title={'center':'FUELCONSUMPTION_COMB'}>]],\n",
       "      dtype=object)"
      ]
     },
     "execution_count": 13,
     "metadata": {},
     "output_type": "execute_result"
    },
    {
     "data": {
      "image/png": "[encoded data removed]",
      "text/plain": [
       "<Figure size 432x288 with 1 Axes>"
      ]
     },
     "metadata": {
      "needs_background": "light"
     },
     "output_type": "display_data"
    }
   ],
   "source": [
    "data[['FUELCONSUMPTION_COMB']].hist()"
   ]
  },
  {
   "cell_type": "code",
   "execution_count": 14,
   "metadata": {},
   "outputs": [
    {
     "data": {
      "text/html": [
       "<div>\n",
       "<style scoped>\n",
       "    .dataframe tbody tr th:only-of-type {\n",
       "        vertical-align: middle;\n",
       "    }\n",
       "\n",
       "    .dataframe tbody tr th {\n",
       "        vertical-align: top;\n",
       "    }\n",
       "\n",
       "    .dataframe thead th {\n",
       "        text-align: right;\n",
       "    }\n",
       "</style>\n",
       "<table border=\"1\" class=\"dataframe\">\n",
       "  <thead>\n",
       "    <tr style=\"text-align: right;\">\n",
       "      <th></th>\n",
       "      <th>ENGINESIZE</th>\n",
       "      <th>CYLINDERS</th>\n",
       "      <th>FUELCONSUMPTION_CITY</th>\n",
       "      <th>FUELCONSUMPTION_HWY</th>\n",
       "      <th>FUELCONSUMPTION_COMB</th>\n",
       "      <th>FUELCONSUMPTION_COMB_MPG</th>\n",
       "      <th>CO2EMISSIONS</th>\n",
       "    </tr>\n",
       "  </thead>\n",
       "  <tbody>\n",
       "    <tr>\n",
       "      <th>ENGINESIZE</th>\n",
       "      <td>1.000000</td>\n",
       "      <td>0.934011</td>\n",
       "      <td>0.832225</td>\n",
       "      <td>0.778746</td>\n",
       "      <td>0.819482</td>\n",
       "      <td>-0.808554</td>\n",
       "      <td>0.874154</td>\n",
       "    </tr>\n",
       "    <tr>\n",
       "      <th>CYLINDERS</th>\n",
       "      <td>0.934011</td>\n",
       "      <td>1.000000</td>\n",
       "      <td>0.796473</td>\n",
       "      <td>0.724594</td>\n",
       "      <td>0.776788</td>\n",
       "      <td>-0.770430</td>\n",
       "      <td>0.849685</td>\n",
       "    </tr>\n",
       "    <tr>\n",
       "      <th>FUELCONSUMPTION_CITY</th>\n",
       "      <td>0.832225</td>\n",
       "      <td>0.796473</td>\n",
       "      <td>1.000000</td>\n",
       "      <td>0.965718</td>\n",
       "      <td>0.995542</td>\n",
       "      <td>-0.935613</td>\n",
       "      <td>0.898039</td>\n",
       "    </tr>\n",
       "    <tr>\n",
       "      <th>FUELCONSUMPTION_HWY</th>\n",
       "      <td>0.778746</td>\n",
       "      <td>0.724594</td>\n",
       "      <td>0.965718</td>\n",
       "      <td>1.000000</td>\n",
       "      <td>0.985804</td>\n",
       "      <td>-0.893809</td>\n",
       "      <td>0.861748</td>\n",
       "    </tr>\n",
       "    <tr>\n",
       "      <th>FUELCONSUMPTION_COMB</th>\n",
       "      <td>0.819482</td>\n",
       "      <td>0.776788</td>\n",
       "      <td>0.995542</td>\n",
       "      <td>0.985804</td>\n",
       "      <td>1.000000</td>\n",
       "      <td>-0.927965</td>\n",
       "      <td>0.892129</td>\n",
       "    </tr>\n",
       "    <tr>\n",
       "      <th>FUELCONSUMPTION_COMB_MPG</th>\n",
       "      <td>-0.808554</td>\n",
       "      <td>-0.770430</td>\n",
       "      <td>-0.935613</td>\n",
       "      <td>-0.893809</td>\n",
       "      <td>-0.927965</td>\n",
       "      <td>1.000000</td>\n",
       "      <td>-0.906394</td>\n",
       "    </tr>\n",
       "    <tr>\n",
       "      <th>CO2EMISSIONS</th>\n",
       "      <td>0.874154</td>\n",
       "      <td>0.849685</td>\n",
       "      <td>0.898039</td>\n",
       "      <td>0.861748</td>\n",
       "      <td>0.892129</td>\n",
       "      <td>-0.906394</td>\n",
       "      <td>1.000000</td>\n",
       "    </tr>\n",
       "  </tbody>\n",
       "</table>\n",
       "</div>"
      ],
      "text/plain": [
       "                          ENGINESIZE  CYLINDERS  FUELCONSUMPTION_CITY  \\\n",
       "ENGINESIZE                  1.000000   0.934011              0.832225   \n",
       "CYLINDERS                   0.934011   1.000000              0.796473   \n",
       "FUELCONSUMPTION_CITY        0.832225   0.796473              1.000000   \n",
       "FUELCONSUMPTION_HWY         0.778746   0.724594              0.965718   \n",
       "FUELCONSUMPTION_COMB        0.819482   0.776788              0.995542   \n",
       "FUELCONSUMPTION_COMB_MPG   -0.808554  -0.770430             -0.935613   \n",
       "CO2EMISSIONS                0.874154   0.849685              0.898039   \n",
       "\n",
       "                          FUELCONSUMPTION_HWY  FUELCONSUMPTION_COMB  \\\n",
       "ENGINESIZE                           0.778746              0.819482   \n",
       "CYLINDERS                            0.724594              0.776788   \n",
       "FUELCONSUMPTION_CITY                 0.965718              0.995542   \n",
       "FUELCONSUMPTION_HWY                  1.000000              0.985804   \n",
       "FUELCONSUMPTION_COMB                 0.985804              1.000000   \n",
       "FUELCONSUMPTION_COMB_MPG            -0.893809             -0.927965   \n",
       "CO2EMISSIONS                         0.861748              0.892129   \n",
       "\n",
       "                          FUELCONSUMPTION_COMB_MPG  CO2EMISSIONS  \n",
       "ENGINESIZE                               -0.808554      0.874154  \n",
       "CYLINDERS                                -0.770430      0.849685  \n",
       "FUELCONSUMPTION_CITY                     -0.935613      0.898039  \n",
       "FUELCONSUMPTION_HWY                      -0.893809      0.861748  \n",
       "FUELCONSUMPTION_COMB                     -0.927965      0.892129  \n",
       "FUELCONSUMPTION_COMB_MPG                  1.000000     -0.906394  \n",
       "CO2EMISSIONS                             -0.906394      1.000000  "
      ]
     },
     "execution_count": 14,
     "metadata": {},
     "output_type": "execute_result"
    }
   ],
   "source": [
    "# Feature Selection\n",
    "data.corr()"
   ]
  },
  {
   "cell_type": "code",
   "execution_count": 15,
   "metadata": {},
   "outputs": [
    {
     "data": {
      "text/plain": [
       "<AxesSubplot:>"
      ]
     },
     "execution_count": 15,
     "metadata": {},
     "output_type": "execute_result"
    },
    {
     "data": {
      "image/png": "[encoded data removed]",
      "text/plain": [
       "<Figure size 432x288 with 2 Axes>"
      ]
     },
     "metadata": {
      "needs_background": "light"
     },
     "output_type": "display_data"
    }
   ],
   "source": [
    "sns.heatmap(data.corr(), annot=True)"
   ]
  },
  {
   "cell_type": "code",
   "execution_count": 16,
   "metadata": {},
   "outputs": [],
   "source": [
    "data.drop(columns=['FUELCONSUMPTION_HWY', 'FUELCONSUMPTION_COMB', 'FUELCONSUMPTION_COMB_MPG'], inplace=True)"
   ]
  },
  {
   "cell_type": "code",
   "execution_count": 17,
   "metadata": {},
   "outputs": [
    {
     "data": {
      "text/plain": [
       "<AxesSubplot:>"
      ]
     },
     "execution_count": 17,
     "metadata": {},
     "output_type": "execute_result"
    },
    {
     "data": {
      "image/png": "[encoded data removed]",
      "text/plain": [
       "<Figure size 432x288 with 2 Axes>"
      ]
     },
     "metadata": {
      "needs_background": "light"
     },
     "output_type": "display_data"
    }
   ],
   "source": [
    "sns.heatmap(data.corr(), annot=True)"
   ]
  },
  {
   "cell_type": "code",
   "execution_count": 18,
   "metadata": {},
   "outputs": [
    {
     "data": {
      "text/html": [
       "<div>\n",
       "<style scoped>\n",
       "    .dataframe tbody tr th:only-of-type {\n",
       "        vertical-align: middle;\n",
       "    }\n",
       "\n",
       "    .dataframe tbody tr th {\n",
       "        vertical-align: top;\n",
       "    }\n",
       "\n",
       "    .dataframe thead th {\n",
       "        text-align: right;\n",
       "    }\n",
       "</style>\n",
       "<table border=\"1\" class=\"dataframe\">\n",
       "  <thead>\n",
       "    <tr style=\"text-align: right;\">\n",
       "      <th></th>\n",
       "      <th>ENGINESIZE</th>\n",
       "      <th>CYLINDERS</th>\n",
       "      <th>FUELCONSUMPTION_CITY</th>\n",
       "      <th>CO2EMISSIONS</th>\n",
       "    </tr>\n",
       "  </thead>\n",
       "  <tbody>\n",
       "    <tr>\n",
       "      <th>0</th>\n",
       "      <td>2.0</td>\n",
       "      <td>4</td>\n",
       "      <td>9.9</td>\n",
       "      <td>196</td>\n",
       "    </tr>\n",
       "    <tr>\n",
       "      <th>1</th>\n",
       "      <td>2.4</td>\n",
       "      <td>4</td>\n",
       "      <td>11.2</td>\n",
       "      <td>221</td>\n",
       "    </tr>\n",
       "    <tr>\n",
       "      <th>2</th>\n",
       "      <td>1.5</td>\n",
       "      <td>4</td>\n",
       "      <td>6.0</td>\n",
       "      <td>136</td>\n",
       "    </tr>\n",
       "    <tr>\n",
       "      <th>3</th>\n",
       "      <td>3.5</td>\n",
       "      <td>6</td>\n",
       "      <td>12.7</td>\n",
       "      <td>255</td>\n",
       "    </tr>\n",
       "    <tr>\n",
       "      <th>4</th>\n",
       "      <td>3.5</td>\n",
       "      <td>6</td>\n",
       "      <td>12.1</td>\n",
       "      <td>244</td>\n",
       "    </tr>\n",
       "  </tbody>\n",
       "</table>\n",
       "</div>"
      ],
      "text/plain": [
       "   ENGINESIZE  CYLINDERS  FUELCONSUMPTION_CITY  CO2EMISSIONS\n",
       "0         2.0          4                   9.9           196\n",
       "1         2.4          4                  11.2           221\n",
       "2         1.5          4                   6.0           136\n",
       "3         3.5          6                  12.7           255\n",
       "4         3.5          6                  12.1           244"
      ]
     },
     "execution_count": 18,
     "metadata": {},
     "output_type": "execute_result"
    }
   ],
   "source": [
    "data.head()"
   ]
  },
  {
   "cell_type": "code",
   "execution_count": 19,
   "metadata": {},
   "outputs": [
    {
     "data": {
      "text/html": [
       "<div>\n",
       "<style scoped>\n",
       "    .dataframe tbody tr th:only-of-type {\n",
       "        vertical-align: middle;\n",
       "    }\n",
       "\n",
       "    .dataframe tbody tr th {\n",
       "        vertical-align: top;\n",
       "    }\n",
       "\n",
       "    .dataframe thead th {\n",
       "        text-align: right;\n",
       "    }\n",
       "</style>\n",
       "<table border=\"1\" class=\"dataframe\">\n",
       "  <thead>\n",
       "    <tr style=\"text-align: right;\">\n",
       "      <th></th>\n",
       "      <th>ENGINESIZE</th>\n",
       "      <th>CYLINDERS</th>\n",
       "      <th>FUELCONSUMPTION_CITY</th>\n",
       "    </tr>\n",
       "  </thead>\n",
       "  <tbody>\n",
       "    <tr>\n",
       "      <th>0</th>\n",
       "      <td>2.0</td>\n",
       "      <td>4</td>\n",
       "      <td>9.9</td>\n",
       "    </tr>\n",
       "    <tr>\n",
       "      <th>1</th>\n",
       "      <td>2.4</td>\n",
       "      <td>4</td>\n",
       "      <td>11.2</td>\n",
       "    </tr>\n",
       "    <tr>\n",
       "      <th>2</th>\n",
       "      <td>1.5</td>\n",
       "      <td>4</td>\n",
       "      <td>6.0</td>\n",
       "    </tr>\n",
       "    <tr>\n",
       "      <th>3</th>\n",
       "      <td>3.5</td>\n",
       "      <td>6</td>\n",
       "      <td>12.7</td>\n",
       "    </tr>\n",
       "    <tr>\n",
       "      <th>4</th>\n",
       "      <td>3.5</td>\n",
       "      <td>6</td>\n",
       "      <td>12.1</td>\n",
       "    </tr>\n",
       "    <tr>\n",
       "      <th>...</th>\n",
       "      <td>...</td>\n",
       "      <td>...</td>\n",
       "      <td>...</td>\n",
       "    </tr>\n",
       "    <tr>\n",
       "      <th>1062</th>\n",
       "      <td>3.0</td>\n",
       "      <td>6</td>\n",
       "      <td>13.4</td>\n",
       "    </tr>\n",
       "    <tr>\n",
       "      <th>1063</th>\n",
       "      <td>3.2</td>\n",
       "      <td>6</td>\n",
       "      <td>13.2</td>\n",
       "    </tr>\n",
       "    <tr>\n",
       "      <th>1064</th>\n",
       "      <td>3.0</td>\n",
       "      <td>6</td>\n",
       "      <td>13.4</td>\n",
       "    </tr>\n",
       "    <tr>\n",
       "      <th>1065</th>\n",
       "      <td>3.2</td>\n",
       "      <td>6</td>\n",
       "      <td>12.9</td>\n",
       "    </tr>\n",
       "    <tr>\n",
       "      <th>1066</th>\n",
       "      <td>3.2</td>\n",
       "      <td>6</td>\n",
       "      <td>14.9</td>\n",
       "    </tr>\n",
       "  </tbody>\n",
       "</table>\n",
       "<p>1067 rows × 3 columns</p>\n",
       "</div>"
      ],
      "text/plain": [
       "      ENGINESIZE  CYLINDERS  FUELCONSUMPTION_CITY\n",
       "0            2.0          4                   9.9\n",
       "1            2.4          4                  11.2\n",
       "2            1.5          4                   6.0\n",
       "3            3.5          6                  12.7\n",
       "4            3.5          6                  12.1\n",
       "...          ...        ...                   ...\n",
       "1062         3.0          6                  13.4\n",
       "1063         3.2          6                  13.2\n",
       "1064         3.0          6                  13.4\n",
       "1065         3.2          6                  12.9\n",
       "1066         3.2          6                  14.9\n",
       "\n",
       "[1067 rows x 3 columns]"
      ]
     },
     "execution_count": 19,
     "metadata": {},
     "output_type": "execute_result"
    }
   ],
   "source": [
    "feature = data.drop(columns=['CO2EMISSIONS'])\n",
    "feature"
   ]
  },
  {
   "cell_type": "code",
   "execution_count": 20,
   "metadata": {},
   "outputs": [
    {
     "data": {
      "text/html": [
       "<div>\n",
       "<style scoped>\n",
       "    .dataframe tbody tr th:only-of-type {\n",
       "        vertical-align: middle;\n",
       "    }\n",
       "\n",
       "    .dataframe tbody tr th {\n",
       "        vertical-align: top;\n",
       "    }\n",
       "\n",
       "    .dataframe thead th {\n",
       "        text-align: right;\n",
       "    }\n",
       "</style>\n",
       "<table border=\"1\" class=\"dataframe\">\n",
       "  <thead>\n",
       "    <tr style=\"text-align: right;\">\n",
       "      <th></th>\n",
       "      <th>CO2EMISSIONS</th>\n",
       "    </tr>\n",
       "  </thead>\n",
       "  <tbody>\n",
       "    <tr>\n",
       "      <th>0</th>\n",
       "      <td>196</td>\n",
       "    </tr>\n",
       "    <tr>\n",
       "      <th>1</th>\n",
       "      <td>221</td>\n",
       "    </tr>\n",
       "    <tr>\n",
       "      <th>2</th>\n",
       "      <td>136</td>\n",
       "    </tr>\n",
       "    <tr>\n",
       "      <th>3</th>\n",
       "      <td>255</td>\n",
       "    </tr>\n",
       "    <tr>\n",
       "      <th>4</th>\n",
       "      <td>244</td>\n",
       "    </tr>\n",
       "    <tr>\n",
       "      <th>...</th>\n",
       "      <td>...</td>\n",
       "    </tr>\n",
       "    <tr>\n",
       "      <th>1062</th>\n",
       "      <td>271</td>\n",
       "    </tr>\n",
       "    <tr>\n",
       "      <th>1063</th>\n",
       "      <td>264</td>\n",
       "    </tr>\n",
       "    <tr>\n",
       "      <th>1064</th>\n",
       "      <td>271</td>\n",
       "    </tr>\n",
       "    <tr>\n",
       "      <th>1065</th>\n",
       "      <td>260</td>\n",
       "    </tr>\n",
       "    <tr>\n",
       "      <th>1066</th>\n",
       "      <td>294</td>\n",
       "    </tr>\n",
       "  </tbody>\n",
       "</table>\n",
       "<p>1067 rows × 1 columns</p>\n",
       "</div>"
      ],
      "text/plain": [
       "      CO2EMISSIONS\n",
       "0              196\n",
       "1              221\n",
       "2              136\n",
       "3              255\n",
       "4              244\n",
       "...            ...\n",
       "1062           271\n",
       "1063           264\n",
       "1064           271\n",
       "1065           260\n",
       "1066           294\n",
       "\n",
       "[1067 rows x 1 columns]"
      ]
     },
     "execution_count": 20,
     "metadata": {},
     "output_type": "execute_result"
    }
   ],
   "source": [
    "target = data[['CO2EMISSIONS']]\n",
    "target"
   ]
  },
  {
   "cell_type": "code",
   "execution_count": 21,
   "metadata": {},
   "outputs": [],
   "source": [
    "# Spliting Data\n",
    "from sklearn.model_selection import train_test_split\n",
    "xtrain, xtest, ytrain, ytest = train_test_split(feature, target, test_size=0.25, random_state=1)"
   ]
  },
  {
   "cell_type": "code",
   "execution_count": 22,
   "metadata": {},
   "outputs": [
    {
     "data": {
      "text/plain": [
       "((800, 3), (267, 3))"
      ]
     },
     "execution_count": 22,
     "metadata": {},
     "output_type": "execute_result"
    }
   ],
   "source": [
    "xtrain.shape, xtest.shape"
   ]
  },
  {
   "cell_type": "code",
   "execution_count": 23,
   "metadata": {},
   "outputs": [
    {
     "data": {
      "text/plain": [
       "((800, 1), (267, 1))"
      ]
     },
     "execution_count": 23,
     "metadata": {},
     "output_type": "execute_result"
    }
   ],
   "source": [
    "ytrain.shape, ytest.shape"
   ]
  },
  {
   "cell_type": "code",
   "execution_count": 24,
   "metadata": {},
   "outputs": [
    {
     "data": {
      "image/png": "[encoded data removed]",
      "text/plain": [
       "<Figure size 432x288 with 1 Axes>"
      ]
     },
     "metadata": {
      "needs_background": "light"
     },
     "output_type": "display_data"
    }
   ],
   "source": [
    "# Choosing Model\n",
    "\n",
    "plt.scatter(feature.ENGINESIZE ,target.values)\n",
    "plt.title(\"EngineSize vs Co2Emission\")\n",
    "plt.xlabel(\"ENGINESIZE\")\n",
    "plt.ylabel(\"CO2EMISSION\")\n",
    "plt.show()"
   ]
  },
  {
   "cell_type": "code",
   "execution_count": 25,
   "metadata": {},
   "outputs": [
    {
     "data": {
      "text/plain": [
       "LinearRegression()"
      ]
     },
     "execution_count": 25,
     "metadata": {},
     "output_type": "execute_result"
    }
   ],
   "source": [
    "# Modeling\n",
    "from sklearn.linear_model import LinearRegression\n",
    "\n",
    "model = LinearRegression()\n",
    "model.fit(xtrain[['ENGINESIZE']], ytrain.values.ravel())"
   ]
  },
  {
   "cell_type": "code",
   "execution_count": 26,
   "metadata": {},
   "outputs": [
    {
     "data": {
      "text/plain": [
       "124.23458594672337"
      ]
     },
     "execution_count": 26,
     "metadata": {},
     "output_type": "execute_result"
    }
   ],
   "source": [
    "model.intercept_"
   ]
  },
  {
   "cell_type": "code",
   "execution_count": 27,
   "metadata": {},
   "outputs": [
    {
     "data": {
      "text/plain": [
       "array([39.54874496])"
      ]
     },
     "execution_count": 27,
     "metadata": {},
     "output_type": "execute_result"
    }
   ],
   "source": [
    "model.coef_"
   ]
  },
  {
   "cell_type": "code",
   "execution_count": 28,
   "metadata": {},
   "outputs": [
    {
     "data": {
      "text/plain": [
       "(ENGINESIZE    3.0\n",
       " Name: 133, dtype: float64,\n",
       " 242.88082083279193,\n",
       " array([274], dtype=int64))"
      ]
     },
     "execution_count": 28,
     "metadata": {},
     "output_type": "execute_result"
    }
   ],
   "source": [
    "# Prediction\n",
    "ypred = model.predict(xtest[['ENGINESIZE']])\n",
    "xtest[['ENGINESIZE']].iloc[0], ypred[0], ytest.values[0]"
   ]
  },
  {
   "cell_type": "code",
   "execution_count": 29,
   "metadata": {},
   "outputs": [
    {
     "data": {
      "text/plain": [
       "array([31.11917917])"
      ]
     },
     "execution_count": 29,
     "metadata": {},
     "output_type": "execute_result"
    }
   ],
   "source": [
    "ytest.values[0] - ypred[0] "
   ]
  },
  {
   "cell_type": "code",
   "execution_count": 30,
   "metadata": {},
   "outputs": [
    {
     "name": "stdout",
     "output_type": "stream",
     "text": [
      "Absoulute Error:  23.183704964940226\n",
      "Mean Squarred Error:  947.2869872487785\n",
      "R2 Score:  0.7633265438534859\n"
     ]
    }
   ],
   "source": [
    "# Evaluation\n",
    "from sklearn.metrics import mean_absolute_error, mean_squared_error, r2_score\n",
    "print(\"Absoulute Error: \", mean_absolute_error(ytest, ypred))\n",
    "print(\"Mean Squarred Error: \", mean_squared_error(ytest, ypred))\n",
    "print(\"R2 Score: \", r2_score(ytest, ypred))"
   ]
  },
  {
   "cell_type": "code",
   "execution_count": 31,
   "metadata": {},
   "outputs": [
    {
     "name": "stdout",
     "output_type": "stream",
     "text": [
      "Absoulute Error:  25.14225028771549\n",
      "Mean Squarred Error:  1060.6489957960428\n",
      "R2 Score:  0.7350037876879928\n"
     ]
    }
   ],
   "source": [
    "model2 = LinearRegression()\n",
    "model2.fit(xtrain[['CYLINDERS']], ytrain.values.ravel())\n",
    "# Prediction\n",
    "ypred = model2.predict(xtest[['CYLINDERS']])\n",
    "\n",
    "print(\"Absoulute Error: \", mean_absolute_error(ytest, ypred))\n",
    "print(\"Mean Squarred Error: \", mean_squared_error(ytest, ypred))\n",
    "print(\"R2 Score: \", r2_score(ytest, ypred))"
   ]
  },
  {
   "cell_type": "code",
   "execution_count": 32,
   "metadata": {},
   "outputs": [],
   "source": [
    "# Linear Regression with FUELCONSUMPTION_CITY"
   ]
  },
  {
   "cell_type": "code",
   "execution_count": 33,
   "metadata": {},
   "outputs": [
    {
     "data": {
      "text/html": [
       "<div>\n",
       "<style scoped>\n",
       "    .dataframe tbody tr th:only-of-type {\n",
       "        vertical-align: middle;\n",
       "    }\n",
       "\n",
       "    .dataframe tbody tr th {\n",
       "        vertical-align: top;\n",
       "    }\n",
       "\n",
       "    .dataframe thead th {\n",
       "        text-align: right;\n",
       "    }\n",
       "</style>\n",
       "<table border=\"1\" class=\"dataframe\">\n",
       "  <thead>\n",
       "    <tr style=\"text-align: right;\">\n",
       "      <th></th>\n",
       "      <th>ENGINESIZE</th>\n",
       "      <th>CYLINDERS</th>\n",
       "      <th>FUELCONSUMPTION_CITY</th>\n",
       "    </tr>\n",
       "  </thead>\n",
       "  <tbody>\n",
       "    <tr>\n",
       "      <th>759</th>\n",
       "      <td>5.5</td>\n",
       "      <td>8</td>\n",
       "      <td>17.7</td>\n",
       "    </tr>\n",
       "    <tr>\n",
       "      <th>671</th>\n",
       "      <td>4.6</td>\n",
       "      <td>8</td>\n",
       "      <td>15.1</td>\n",
       "    </tr>\n",
       "    <tr>\n",
       "      <th>408</th>\n",
       "      <td>2.0</td>\n",
       "      <td>4</td>\n",
       "      <td>11.6</td>\n",
       "    </tr>\n",
       "    <tr>\n",
       "      <th>734</th>\n",
       "      <td>2.0</td>\n",
       "      <td>4</td>\n",
       "      <td>9.1</td>\n",
       "    </tr>\n",
       "    <tr>\n",
       "      <th>574</th>\n",
       "      <td>3.2</td>\n",
       "      <td>6</td>\n",
       "      <td>12.5</td>\n",
       "    </tr>\n",
       "    <tr>\n",
       "      <th>...</th>\n",
       "      <td>...</td>\n",
       "      <td>...</td>\n",
       "      <td>...</td>\n",
       "    </tr>\n",
       "    <tr>\n",
       "      <th>847</th>\n",
       "      <td>1.6</td>\n",
       "      <td>4</td>\n",
       "      <td>9.3</td>\n",
       "    </tr>\n",
       "    <tr>\n",
       "      <th>715</th>\n",
       "      <td>2.5</td>\n",
       "      <td>4</td>\n",
       "      <td>8.8</td>\n",
       "    </tr>\n",
       "    <tr>\n",
       "      <th>905</th>\n",
       "      <td>4.8</td>\n",
       "      <td>8</td>\n",
       "      <td>15.1</td>\n",
       "    </tr>\n",
       "    <tr>\n",
       "      <th>235</th>\n",
       "      <td>2.4</td>\n",
       "      <td>4</td>\n",
       "      <td>12.2</td>\n",
       "    </tr>\n",
       "    <tr>\n",
       "      <th>1061</th>\n",
       "      <td>3.2</td>\n",
       "      <td>6</td>\n",
       "      <td>13.0</td>\n",
       "    </tr>\n",
       "  </tbody>\n",
       "</table>\n",
       "<p>800 rows × 3 columns</p>\n",
       "</div>"
      ],
      "text/plain": [
       "      ENGINESIZE  CYLINDERS  FUELCONSUMPTION_CITY\n",
       "759          5.5          8                  17.7\n",
       "671          4.6          8                  15.1\n",
       "408          2.0          4                  11.6\n",
       "734          2.0          4                   9.1\n",
       "574          3.2          6                  12.5\n",
       "...          ...        ...                   ...\n",
       "847          1.6          4                   9.3\n",
       "715          2.5          4                   8.8\n",
       "905          4.8          8                  15.1\n",
       "235          2.4          4                  12.2\n",
       "1061         3.2          6                  13.0\n",
       "\n",
       "[800 rows x 3 columns]"
      ]
     },
     "execution_count": 33,
     "metadata": {},
     "output_type": "execute_result"
    }
   ],
   "source": [
    "xtrain"
   ]
  },
  {
   "cell_type": "code",
   "execution_count": 34,
   "metadata": {},
   "outputs": [
    {
     "data": {
      "text/plain": [
       "LinearRegression()"
      ]
     },
     "execution_count": 34,
     "metadata": {},
     "output_type": "execute_result"
    }
   ],
   "source": [
    "# Multiple Linear Regression\n",
    "model4 = LinearRegression()\n",
    "model4.fit(xtrain, ytrain.values.ravel())"
   ]
  },
  {
   "cell_type": "code",
   "execution_count": 35,
   "metadata": {},
   "outputs": [
    {
     "data": {
      "text/plain": [
       "69.53741892732677"
      ]
     },
     "execution_count": 35,
     "metadata": {},
     "output_type": "execute_result"
    }
   ],
   "source": [
    "model4.intercept_"
   ]
  },
  {
   "cell_type": "code",
   "execution_count": 36,
   "metadata": {},
   "outputs": [
    {
     "data": {
      "text/plain": [
       "array([12.0361132 ,  5.48464928,  8.64096118])"
      ]
     },
     "execution_count": 36,
     "metadata": {},
     "output_type": "execute_result"
    }
   ],
   "source": [
    "model4.coef_"
   ]
  },
  {
   "cell_type": "code",
   "execution_count": 37,
   "metadata": {},
   "outputs": [
    {
     "name": "stdout",
     "output_type": "stream",
     "text": [
      "Absoulute Error:  17.088547401405325\n",
      "Mean Squarred Error:  575.8397651491647\n",
      "R2 Score:  0.8561302021045729\n"
     ]
    }
   ],
   "source": [
    "# Prediction\n",
    "ypred = model4.predict(xtest)\n",
    "\n",
    "print(\"Absoulute Error: \", mean_absolute_error(ytest, ypred))\n",
    "print(\"Mean Squarred Error: \", mean_squared_error(ytest, ypred))\n",
    "print(\"R2 Score: \", r2_score(ytest, ypred))"
   ]
  },
  {
   "cell_type": "code",
   "execution_count": 38,
   "metadata": {},
   "outputs": [
    {
     "name": "stdout",
     "output_type": "stream",
     "text": [
      "\n",
      "=====================================\n",
      "Absoulute Error:  14.07855599823645\n",
      "Mean Squarred Error:  389.94053862410027\n",
      "R2 Score:  0.886275567121053\n",
      "\n",
      "=====================================\n",
      "Absoulute Error:  24.45600413289729\n",
      "Mean Squarred Error:  1127.4299414243742\n",
      "R2 Score:  0.7689948520135103\n",
      "\n",
      "=====================================\n",
      "Absoulute Error:  19.444832254974617\n",
      "Mean Squarred Error:  717.3735314289814\n",
      "R2 Score:  0.8186056665121977\n",
      "\n",
      "=====================================\n",
      "Absoulute Error:  15.859065273313636\n",
      "Mean Squarred Error:  435.3427527658028\n",
      "R2 Score:  0.8852711218370435\n",
      "\n",
      "=====================================\n",
      "Absoulute Error:  14.454705959453191\n",
      "Mean Squarred Error:  366.56174986803325\n",
      "R2 Score:  0.8952183595505572\n"
     ]
    }
   ],
   "source": [
    "# Cross Validation\n",
    "from sklearn.model_selection import KFold\n",
    "\n",
    "accuracies = []\n",
    "folds = KFold(n_splits=5)\n",
    "for train_index, test_index in folds.split(feature):\n",
    "    # Extracting Training Data\n",
    "    xtrain = feature.iloc[train_index]\n",
    "    ytrain = target.iloc[train_index]\n",
    "    #\n",
    "    xtest = feature.iloc[test_index]\n",
    "    ytest = target.iloc[test_index]\n",
    "    print()\n",
    "    # MOdeling\n",
    "    model5 = LinearRegression()\n",
    "    model5.fit(xtrain, ytrain)\n",
    "\n",
    "    # Evaluation\n",
    "    print('=====================================')\n",
    "    ypred = model5.predict(xtest)\n",
    "    print(\"Absoulute Error: \", mean_absolute_error(ytest, ypred))\n",
    "    print(\"Mean Squarred Error: \", mean_squared_error(ytest, ypred))\n",
    "    print(\"R2 Score: \", r2_score(ytest, ypred))\n",
    "    accuracies.append(r2_score(ytest, ypred))\n"
   ]
  },
  {
   "cell_type": "code",
   "execution_count": 39,
   "metadata": {},
   "outputs": [
    {
     "name": "stdout",
     "output_type": "stream",
     "text": [
      "Average R2 Score:  0.8508731134068723\n"
     ]
    }
   ],
   "source": [
    "print(\"Average R2 Score: \", sum(accuracies)/5)"
   ]
  },
  {
   "cell_type": "code",
   "execution_count": 40,
   "metadata": {},
   "outputs": [
    {
     "data": {
      "text/plain": [
       "(array([0.92026691, 0.84939559, 0.73940185, 0.83232468, 0.81342395,\n",
       "        0.82255311, 0.88161856, 0.88799364, 0.9137904 , 0.86623948]),\n",
       " 0.8527008169436309)"
      ]
     },
     "execution_count": 40,
     "metadata": {},
     "output_type": "execute_result"
    }
   ],
   "source": [
    "# Cross VAlidation\n",
    "from sklearn.model_selection import cross_val_score\n",
    "cvmodel = LinearRegression()\n",
    "cv = cross_val_score(cvmodel, feature, target, cv=10)\n",
    "cv, cv.mean()"
   ]
  },
  {
   "cell_type": "code",
   "execution_count": 41,
   "metadata": {},
   "outputs": [
    {
     "data": {
      "text/plain": [
       "LinearRegression()"
      ]
     },
     "execution_count": 41,
     "metadata": {},
     "output_type": "execute_result"
    }
   ],
   "source": [
    "# Model Visualization\n",
    "model6 = LinearRegression()\n",
    "model6.fit(feature[['ENGINESIZE']], target)"
   ]
  },
  {
   "cell_type": "code",
   "execution_count": 42,
   "metadata": {},
   "outputs": [
    {
     "data": {
      "image/png": "[encoded data removed]",
      "text/plain": [
       "<Figure size 1440x576 with 1 Axes>"
      ]
     },
     "metadata": {
      "needs_background": "light"
     },
     "output_type": "display_data"
    }
   ],
   "source": [
    "fig = plt.figure(1, figsize=(20,8))\n",
    "plt.scatter(feature[['ENGINESIZE']].values, target.values, label='Actual Data', color='darkorange')\n",
    "plt.scatter(feature[['ENGINESIZE']].values, model6.predict(feature[['ENGINESIZE']]), label='Predicted Data', color='black')\n",
    "plt.xlabel(\"ENGINESIZE\")\n",
    "plt.ylabel(\"CO2EMISSION\")\n",
    "plt.legend()\n",
    "plt.show()"
   ]
  },
  {
   "cell_type": "code",
   "execution_count": 43,
   "metadata": {},
   "outputs": [
    {
     "data": {
      "text/plain": [
       "array([[ 0.        ],\n",
       "       [ 0.02506266],\n",
       "       [ 0.05012531],\n",
       "       [ 0.07518797],\n",
       "       [ 0.10025063],\n",
       "       [ 0.12531328],\n",
       "       [ 0.15037594],\n",
       "       [ 0.1754386 ],\n",
       "       [ 0.20050125],\n",
       "       [ 0.22556391],\n",
       "       [ 0.25062657],\n",
       "       [ 0.27568922],\n",
       "       [ 0.30075188],\n",
       "       [ 0.32581454],\n",
       "       [ 0.35087719],\n",
       "       [ 0.37593985],\n",
       "       [ 0.40100251],\n",
       "       [ 0.42606516],\n",
       "       [ 0.45112782],\n",
       "       [ 0.47619048],\n",
       "       [ 0.50125313],\n",
       "       [ 0.52631579],\n",
       "       [ 0.55137845],\n",
       "       [ 0.5764411 ],\n",
       "       [ 0.60150376],\n",
       "       [ 0.62656642],\n",
       "       [ 0.65162907],\n",
       "       [ 0.67669173],\n",
       "       [ 0.70175439],\n",
       "       [ 0.72681704],\n",
       "       [ 0.7518797 ],\n",
       "       [ 0.77694236],\n",
       "       [ 0.80200501],\n",
       "       [ 0.82706767],\n",
       "       [ 0.85213033],\n",
       "       [ 0.87719298],\n",
       "       [ 0.90225564],\n",
       "       [ 0.9273183 ],\n",
       "       [ 0.95238095],\n",
       "       [ 0.97744361],\n",
       "       [ 1.00250627],\n",
       "       [ 1.02756892],\n",
       "       [ 1.05263158],\n",
       "       [ 1.07769424],\n",
       "       [ 1.10275689],\n",
       "       [ 1.12781955],\n",
       "       [ 1.15288221],\n",
       "       [ 1.17794486],\n",
       "       [ 1.20300752],\n",
       "       [ 1.22807018],\n",
       "       [ 1.25313283],\n",
       "       [ 1.27819549],\n",
       "       [ 1.30325815],\n",
       "       [ 1.3283208 ],\n",
       "       [ 1.35338346],\n",
       "       [ 1.37844612],\n",
       "       [ 1.40350877],\n",
       "       [ 1.42857143],\n",
       "       [ 1.45363409],\n",
       "       [ 1.47869674],\n",
       "       [ 1.5037594 ],\n",
       "       [ 1.52882206],\n",
       "       [ 1.55388471],\n",
       "       [ 1.57894737],\n",
       "       [ 1.60401003],\n",
       "       [ 1.62907268],\n",
       "       [ 1.65413534],\n",
       "       [ 1.67919799],\n",
       "       [ 1.70426065],\n",
       "       [ 1.72932331],\n",
       "       [ 1.75438596],\n",
       "       [ 1.77944862],\n",
       "       [ 1.80451128],\n",
       "       [ 1.82957393],\n",
       "       [ 1.85463659],\n",
       "       [ 1.87969925],\n",
       "       [ 1.9047619 ],\n",
       "       [ 1.92982456],\n",
       "       [ 1.95488722],\n",
       "       [ 1.97994987],\n",
       "       [ 2.00501253],\n",
       "       [ 2.03007519],\n",
       "       [ 2.05513784],\n",
       "       [ 2.0802005 ],\n",
       "       [ 2.10526316],\n",
       "       [ 2.13032581],\n",
       "       [ 2.15538847],\n",
       "       [ 2.18045113],\n",
       "       [ 2.20551378],\n",
       "       [ 2.23057644],\n",
       "       [ 2.2556391 ],\n",
       "       [ 2.28070175],\n",
       "       [ 2.30576441],\n",
       "       [ 2.33082707],\n",
       "       [ 2.35588972],\n",
       "       [ 2.38095238],\n",
       "       [ 2.40601504],\n",
       "       [ 2.43107769],\n",
       "       [ 2.45614035],\n",
       "       [ 2.48120301],\n",
       "       [ 2.50626566],\n",
       "       [ 2.53132832],\n",
       "       [ 2.55639098],\n",
       "       [ 2.58145363],\n",
       "       [ 2.60651629],\n",
       "       [ 2.63157895],\n",
       "       [ 2.6566416 ],\n",
       "       [ 2.68170426],\n",
       "       [ 2.70676692],\n",
       "       [ 2.73182957],\n",
       "       [ 2.75689223],\n",
       "       [ 2.78195489],\n",
       "       [ 2.80701754],\n",
       "       [ 2.8320802 ],\n",
       "       [ 2.85714286],\n",
       "       [ 2.88220551],\n",
       "       [ 2.90726817],\n",
       "       [ 2.93233083],\n",
       "       [ 2.95739348],\n",
       "       [ 2.98245614],\n",
       "       [ 3.0075188 ],\n",
       "       [ 3.03258145],\n",
       "       [ 3.05764411],\n",
       "       [ 3.08270677],\n",
       "       [ 3.10776942],\n",
       "       [ 3.13283208],\n",
       "       [ 3.15789474],\n",
       "       [ 3.18295739],\n",
       "       [ 3.20802005],\n",
       "       [ 3.23308271],\n",
       "       [ 3.25814536],\n",
       "       [ 3.28320802],\n",
       "       [ 3.30827068],\n",
       "       [ 3.33333333],\n",
       "       [ 3.35839599],\n",
       "       [ 3.38345865],\n",
       "       [ 3.4085213 ],\n",
       "       [ 3.43358396],\n",
       "       [ 3.45864662],\n",
       "       [ 3.48370927],\n",
       "       [ 3.50877193],\n",
       "       [ 3.53383459],\n",
       "       [ 3.55889724],\n",
       "       [ 3.5839599 ],\n",
       "       [ 3.60902256],\n",
       "       [ 3.63408521],\n",
       "       [ 3.65914787],\n",
       "       [ 3.68421053],\n",
       "       [ 3.70927318],\n",
       "       [ 3.73433584],\n",
       "       [ 3.7593985 ],\n",
       "       [ 3.78446115],\n",
       "       [ 3.80952381],\n",
       "       [ 3.83458647],\n",
       "       [ 3.85964912],\n",
       "       [ 3.88471178],\n",
       "       [ 3.90977444],\n",
       "       [ 3.93483709],\n",
       "       [ 3.95989975],\n",
       "       [ 3.98496241],\n",
       "       [ 4.01002506],\n",
       "       [ 4.03508772],\n",
       "       [ 4.06015038],\n",
       "       [ 4.08521303],\n",
       "       [ 4.11027569],\n",
       "       [ 4.13533835],\n",
       "       [ 4.160401  ],\n",
       "       [ 4.18546366],\n",
       "       [ 4.21052632],\n",
       "       [ 4.23558897],\n",
       "       [ 4.26065163],\n",
       "       [ 4.28571429],\n",
       "       [ 4.31077694],\n",
       "       [ 4.3358396 ],\n",
       "       [ 4.36090226],\n",
       "       [ 4.38596491],\n",
       "       [ 4.41102757],\n",
       "       [ 4.43609023],\n",
       "       [ 4.46115288],\n",
       "       [ 4.48621554],\n",
       "       [ 4.5112782 ],\n",
       "       [ 4.53634085],\n",
       "       [ 4.56140351],\n",
       "       [ 4.58646617],\n",
       "       [ 4.61152882],\n",
       "       [ 4.63659148],\n",
       "       [ 4.66165414],\n",
       "       [ 4.68671679],\n",
       "       [ 4.71177945],\n",
       "       [ 4.73684211],\n",
       "       [ 4.76190476],\n",
       "       [ 4.78696742],\n",
       "       [ 4.81203008],\n",
       "       [ 4.83709273],\n",
       "       [ 4.86215539],\n",
       "       [ 4.88721805],\n",
       "       [ 4.9122807 ],\n",
       "       [ 4.93734336],\n",
       "       [ 4.96240602],\n",
       "       [ 4.98746867],\n",
       "       [ 5.01253133],\n",
       "       [ 5.03759398],\n",
       "       [ 5.06265664],\n",
       "       [ 5.0877193 ],\n",
       "       [ 5.11278195],\n",
       "       [ 5.13784461],\n",
       "       [ 5.16290727],\n",
       "       [ 5.18796992],\n",
       "       [ 5.21303258],\n",
       "       [ 5.23809524],\n",
       "       [ 5.26315789],\n",
       "       [ 5.28822055],\n",
       "       [ 5.31328321],\n",
       "       [ 5.33834586],\n",
       "       [ 5.36340852],\n",
       "       [ 5.38847118],\n",
       "       [ 5.41353383],\n",
       "       [ 5.43859649],\n",
       "       [ 5.46365915],\n",
       "       [ 5.4887218 ],\n",
       "       [ 5.51378446],\n",
       "       [ 5.53884712],\n",
       "       [ 5.56390977],\n",
       "       [ 5.58897243],\n",
       "       [ 5.61403509],\n",
       "       [ 5.63909774],\n",
       "       [ 5.6641604 ],\n",
       "       [ 5.68922306],\n",
       "       [ 5.71428571],\n",
       "       [ 5.73934837],\n",
       "       [ 5.76441103],\n",
       "       [ 5.78947368],\n",
       "       [ 5.81453634],\n",
       "       [ 5.839599  ],\n",
       "       [ 5.86466165],\n",
       "       [ 5.88972431],\n",
       "       [ 5.91478697],\n",
       "       [ 5.93984962],\n",
       "       [ 5.96491228],\n",
       "       [ 5.98997494],\n",
       "       [ 6.01503759],\n",
       "       [ 6.04010025],\n",
       "       [ 6.06516291],\n",
       "       [ 6.09022556],\n",
       "       [ 6.11528822],\n",
       "       [ 6.14035088],\n",
       "       [ 6.16541353],\n",
       "       [ 6.19047619],\n",
       "       [ 6.21553885],\n",
       "       [ 6.2406015 ],\n",
       "       [ 6.26566416],\n",
       "       [ 6.29072682],\n",
       "       [ 6.31578947],\n",
       "       [ 6.34085213],\n",
       "       [ 6.36591479],\n",
       "       [ 6.39097744],\n",
       "       [ 6.4160401 ],\n",
       "       [ 6.44110276],\n",
       "       [ 6.46616541],\n",
       "       [ 6.49122807],\n",
       "       [ 6.51629073],\n",
       "       [ 6.54135338],\n",
       "       [ 6.56641604],\n",
       "       [ 6.5914787 ],\n",
       "       [ 6.61654135],\n",
       "       [ 6.64160401],\n",
       "       [ 6.66666667],\n",
       "       [ 6.69172932],\n",
       "       [ 6.71679198],\n",
       "       [ 6.74185464],\n",
       "       [ 6.76691729],\n",
       "       [ 6.79197995],\n",
       "       [ 6.81704261],\n",
       "       [ 6.84210526],\n",
       "       [ 6.86716792],\n",
       "       [ 6.89223058],\n",
       "       [ 6.91729323],\n",
       "       [ 6.94235589],\n",
       "       [ 6.96741855],\n",
       "       [ 6.9924812 ],\n",
       "       [ 7.01754386],\n",
       "       [ 7.04260652],\n",
       "       [ 7.06766917],\n",
       "       [ 7.09273183],\n",
       "       [ 7.11779449],\n",
       "       [ 7.14285714],\n",
       "       [ 7.1679198 ],\n",
       "       [ 7.19298246],\n",
       "       [ 7.21804511],\n",
       "       [ 7.24310777],\n",
       "       [ 7.26817043],\n",
       "       [ 7.29323308],\n",
       "       [ 7.31829574],\n",
       "       [ 7.3433584 ],\n",
       "       [ 7.36842105],\n",
       "       [ 7.39348371],\n",
       "       [ 7.41854637],\n",
       "       [ 7.44360902],\n",
       "       [ 7.46867168],\n",
       "       [ 7.49373434],\n",
       "       [ 7.51879699],\n",
       "       [ 7.54385965],\n",
       "       [ 7.56892231],\n",
       "       [ 7.59398496],\n",
       "       [ 7.61904762],\n",
       "       [ 7.64411028],\n",
       "       [ 7.66917293],\n",
       "       [ 7.69423559],\n",
       "       [ 7.71929825],\n",
       "       [ 7.7443609 ],\n",
       "       [ 7.76942356],\n",
       "       [ 7.79448622],\n",
       "       [ 7.81954887],\n",
       "       [ 7.84461153],\n",
       "       [ 7.86967419],\n",
       "       [ 7.89473684],\n",
       "       [ 7.9197995 ],\n",
       "       [ 7.94486216],\n",
       "       [ 7.96992481],\n",
       "       [ 7.99498747],\n",
       "       [ 8.02005013],\n",
       "       [ 8.04511278],\n",
       "       [ 8.07017544],\n",
       "       [ 8.0952381 ],\n",
       "       [ 8.12030075],\n",
       "       [ 8.14536341],\n",
       "       [ 8.17042607],\n",
       "       [ 8.19548872],\n",
       "       [ 8.22055138],\n",
       "       [ 8.24561404],\n",
       "       [ 8.27067669],\n",
       "       [ 8.29573935],\n",
       "       [ 8.32080201],\n",
       "       [ 8.34586466],\n",
       "       [ 8.37092732],\n",
       "       [ 8.39598997],\n",
       "       [ 8.42105263],\n",
       "       [ 8.44611529],\n",
       "       [ 8.47117794],\n",
       "       [ 8.4962406 ],\n",
       "       [ 8.52130326],\n",
       "       [ 8.54636591],\n",
       "       [ 8.57142857],\n",
       "       [ 8.59649123],\n",
       "       [ 8.62155388],\n",
       "       [ 8.64661654],\n",
       "       [ 8.6716792 ],\n",
       "       [ 8.69674185],\n",
       "       [ 8.72180451],\n",
       "       [ 8.74686717],\n",
       "       [ 8.77192982],\n",
       "       [ 8.79699248],\n",
       "       [ 8.82205514],\n",
       "       [ 8.84711779],\n",
       "       [ 8.87218045],\n",
       "       [ 8.89724311],\n",
       "       [ 8.92230576],\n",
       "       [ 8.94736842],\n",
       "       [ 8.97243108],\n",
       "       [ 8.99749373],\n",
       "       [ 9.02255639],\n",
       "       [ 9.04761905],\n",
       "       [ 9.0726817 ],\n",
       "       [ 9.09774436],\n",
       "       [ 9.12280702],\n",
       "       [ 9.14786967],\n",
       "       [ 9.17293233],\n",
       "       [ 9.19799499],\n",
       "       [ 9.22305764],\n",
       "       [ 9.2481203 ],\n",
       "       [ 9.27318296],\n",
       "       [ 9.29824561],\n",
       "       [ 9.32330827],\n",
       "       [ 9.34837093],\n",
       "       [ 9.37343358],\n",
       "       [ 9.39849624],\n",
       "       [ 9.4235589 ],\n",
       "       [ 9.44862155],\n",
       "       [ 9.47368421],\n",
       "       [ 9.49874687],\n",
       "       [ 9.52380952],\n",
       "       [ 9.54887218],\n",
       "       [ 9.57393484],\n",
       "       [ 9.59899749],\n",
       "       [ 9.62406015],\n",
       "       [ 9.64912281],\n",
       "       [ 9.67418546],\n",
       "       [ 9.69924812],\n",
       "       [ 9.72431078],\n",
       "       [ 9.74937343],\n",
       "       [ 9.77443609],\n",
       "       [ 9.79949875],\n",
       "       [ 9.8245614 ],\n",
       "       [ 9.84962406],\n",
       "       [ 9.87468672],\n",
       "       [ 9.89974937],\n",
       "       [ 9.92481203],\n",
       "       [ 9.94987469],\n",
       "       [ 9.97493734],\n",
       "       [10.        ]])"
      ]
     },
     "execution_count": 43,
     "metadata": {},
     "output_type": "execute_result"
    }
   ],
   "source": [
    "dummyFeature = np.linspace(0, 10, 400).reshape(-1,1)\n",
    "dummyFeature"
   ]
  },
  {
   "cell_type": "code",
   "execution_count": 44,
   "metadata": {},
   "outputs": [
    {
     "name": "stderr",
     "output_type": "stream",
     "text": [
      "C:\\Users\\hp\\AppData\\Roaming\\Python\\Python310\\site-packages\\sklearn\\base.py:450: UserWarning: X does not have valid feature names, but LinearRegression was fitted with feature names\n",
      "  warnings.warn(\n"
     ]
    },
    {
     "data": {
      "image/png": "[encoded data removed]",
      "text/plain": [
       "<Figure size 1440x576 with 1 Axes>"
      ]
     },
     "metadata": {
      "needs_background": "light"
     },
     "output_type": "display_data"
    }
   ],
   "source": [
    "fig = plt.figure(1, figsize=(20,8))\n",
    "plt.scatter(feature[['ENGINESIZE']].values, target.values, label='Actual Data', color='darkorange')\n",
    "plt.plot(dummyFeature, model6.predict(dummyFeature), label='Predicted Data', color='black')\n",
    "plt.xlabel(\"ENGINESIZE\")\n",
    "plt.ylabel(\"CO2EMISSION\")\n",
    "plt.legend()\n",
    "plt.show()"
   ]
  },
  {
   "cell_type": "code",
   "execution_count": 45,
   "metadata": {},
   "outputs": [],
   "source": [
    "dummyFeature1 = np.linspace(0, 10, 400)\n",
    "dummyFeature2 = np.linspace(4, 31, 400)\n",
    "dummyFeature = np.c_[dummyFeature1, dummyFeature2]"
   ]
  },
  {
   "cell_type": "code",
   "execution_count": 46,
   "metadata": {},
   "outputs": [
    {
     "name": "stderr",
     "output_type": "stream",
     "text": [
      "C:\\Users\\hp\\AppData\\Roaming\\Python\\Python310\\site-packages\\sklearn\\base.py:450: UserWarning: X does not have valid feature names, but LinearRegression was fitted with feature names\n",
      "  warnings.warn(\n"
     ]
    },
    {
     "data": {
      "image/png": "[encoded data removed]",
      "text/plain": [
       "<Figure size 1440x360 with 1 Axes>"
      ]
     },
     "metadata": {
      "needs_background": "light"
     },
     "output_type": "display_data"
    }
   ],
   "source": [
    "model7 = LinearRegression().fit(\n",
    "    feature[['ENGINESIZE', 'FUELCONSUMPTION_CITY']], target)\n",
    "fig = plt.figure(1, figsize=(20, 5))\n",
    "axes = plt.axes(projection='3d')\n",
    "axes.scatter3D(feature[['ENGINESIZE']], feature[[\n",
    "               'FUELCONSUMPTION_CITY']], target, label='Actual Data', color='darkorange')\n",
    "axes.plot3D(dummyFeature1, dummyFeature2, model7.predict(\n",
    "    dummyFeature).ravel(), label='Prediction', color='black')\n",
    "axes.legend()\n",
    "axes.set_xlabel(\"ENGINESIZE\")\n",
    "axes.set_ylabel(\"FUELCONSUMMPTION_CITY\")\n",
    "axes.set_zlabel(\"CO2EMISSION\")\n",
    "plt.show()\n"
   ]
  },
  {
   "cell_type": "code",
   "execution_count": 47,
   "metadata": {},
   "outputs": [
    {
     "data": {
      "text/plain": [
       "['Lr']"
      ]
     },
     "execution_count": 47,
     "metadata": {},
     "output_type": "execute_result"
    }
   ],
   "source": [
    "# Saving MOdel\n",
    "from joblib import dump\n",
    "dump(model5, 'Lr')"
   ]
  },
  {
   "cell_type": "code",
   "execution_count": 48,
   "metadata": {},
   "outputs": [],
   "source": [
    "from joblib import load\n",
    "model = load('Lr')"
   ]
  },
  {
   "cell_type": "code",
   "execution_count": 49,
   "metadata": {},
   "outputs": [
    {
     "data": {
      "text/plain": [
       "array([[252.60202976],\n",
       "       [200.1301554 ],\n",
       "       [202.48148066],\n",
       "       [182.01161495],\n",
       "       [189.06559075],\n",
       "       [332.76212116],\n",
       "       [346.87007275],\n",
       "       [175.26733894],\n",
       "       [186.24019017],\n",
       "       [285.92199666],\n",
       "       [278.86802086],\n",
       "       [244.52724122],\n",
       "       [251.58121702],\n",
       "       [246.0947914 ],\n",
       "       [250.79744193],\n",
       "       [247.66234158],\n",
       "       [252.36499211],\n",
       "       [254.09691782],\n",
       "       [258.01579326],\n",
       "       [257.23201817],\n",
       "       [258.79956835],\n",
       "       [244.52724122],\n",
       "       [250.79744193],\n",
       "       [252.52936764],\n",
       "       [256.44824308],\n",
       "       [254.88069291],\n",
       "       [256.44824308],\n",
       "       [283.09659608],\n",
       "       [265.06976905],\n",
       "       [265.06976905],\n",
       "       [265.06976905],\n",
       "       [265.06976905],\n",
       "       [230.32757622],\n",
       "       [236.59777693],\n",
       "       [242.17591596],\n",
       "       [246.87856649],\n",
       "       [262.24436848],\n",
       "       [279.48742042],\n",
       "       [245.14664078],\n",
       "       [308.92011745],\n",
       "       [301.86614165],\n",
       "       [242.01154043],\n",
       "       [308.92011745],\n",
       "       [230.32757622],\n",
       "       [236.59777693],\n",
       "       [242.17591596],\n",
       "       [246.87856649],\n",
       "       [256.75794286],\n",
       "       [258.32549304],\n",
       "       [254.55194184],\n",
       "       [256.9032671 ],\n",
       "       [302.64991674],\n",
       "       [254.55194184],\n",
       "       [304.21746692],\n",
       "       [305.00124201],\n",
       "       [327.5127332 ],\n",
       "       [317.32365705],\n",
       "       [331.43160864],\n",
       "       [321.2425325 ],\n",
       "       [244.36286569],\n",
       "       [270.08211936],\n",
       "       [316.32484957],\n",
       "       [240.44399025],\n",
       "       [264.59569374],\n",
       "       [307.70332359],\n",
       "       [256.75794286],\n",
       "       [259.89304321],\n",
       "       [301.43312289],\n",
       "       [385.1738877 ],\n",
       "       [385.1738877 ],\n",
       "       [398.73510185],\n",
       "       [398.73510185],\n",
       "       [398.73510185],\n",
       "       [398.73510185],\n",
       "       [382.03878734],\n",
       "       [198.16119203],\n",
       "       [208.35026818],\n",
       "       [167.50225018],\n",
       "       [207.96790628],\n",
       "       [207.96790628],\n",
       "       [212.43351915],\n",
       "       [212.43351915],\n",
       "       [189.84936584],\n",
       "       [188.28181566],\n",
       "       [158.5915527 ],\n",
       "       [158.5915527 ],\n",
       "       [394.20332386],\n",
       "       [394.20332386],\n",
       "       [198.16119203],\n",
       "       [209.13404326],\n",
       "       [202.86384256],\n",
       "       [203.26525575],\n",
       "       [213.4543319 ],\n",
       "       [191.10721624],\n",
       "       [198.16119203],\n",
       "       [226.7785084 ],\n",
       "       [239.31890981],\n",
       "       [191.10721624],\n",
       "       [198.16119203],\n",
       "       [226.7785084 ],\n",
       "       [239.31890981],\n",
       "       [204.04903084],\n",
       "       [216.58943225],\n",
       "       [259.89304321],\n",
       "       [205.61658101],\n",
       "       [212.67055681],\n",
       "       [260.6768183 ],\n",
       "       [270.86589445],\n",
       "       [197.37741694],\n",
       "       [202.86384256],\n",
       "       [186.40456571],\n",
       "       [271.81404507],\n",
       "       [271.81404507],\n",
       "       [243.1967287 ],\n",
       "       [202.48148066],\n",
       "       [241.62917853],\n",
       "       [171.13047713],\n",
       "       [173.48180239],\n",
       "       [188.28181566],\n",
       "       [184.36294022],\n",
       "       [183.57916513],\n",
       "       [185.93049039],\n",
       "       [181.22783987],\n",
       "       [182.01161495],\n",
       "       [194.55201637],\n",
       "       [190.63314092],\n",
       "       [271.81404507],\n",
       "       [280.43557104],\n",
       "       [221.76615809],\n",
       "       [253.38580485],\n",
       "       [256.5209052 ],\n",
       "       [217.33215079],\n",
       "       [216.5483757 ],\n",
       "       [157.71458722],\n",
       "       [153.8683739 ],\n",
       "       [162.41723775],\n",
       "       [206.4003561 ],\n",
       "       [209.53545645],\n",
       "       [211.10300663],\n",
       "       [342.40445988],\n",
       "       [255.73713012],\n",
       "       [265.92620626],\n",
       "       [225.68503353],\n",
       "       [218.63105774],\n",
       "       [273.38159525],\n",
       "       [232.73900932],\n",
       "       [230.38768406],\n",
       "       [274.94914542],\n",
       "       [279.65179595],\n",
       "       [275.73292051],\n",
       "       [306.87849196],\n",
       "       [331.43160864],\n",
       "       [314.71624284],\n",
       "       [335.35048408],\n",
       "       [219.41483282],\n",
       "       [253.38580485],\n",
       "       [220.982383  ],\n",
       "       [255.73713012],\n",
       "       [179.73295181],\n",
       "       [178.94917672],\n",
       "       [195.33579145],\n",
       "       [198.47089181],\n",
       "       [203.64761765],\n",
       "       [207.56649309],\n",
       "       [221.6539164 ],\n",
       "       [224.00524167],\n",
       "       [197.68711672],\n",
       "       [203.64761765],\n",
       "       [207.56649309],\n",
       "       [224.00524167],\n",
       "       [187.18834079],\n",
       "       [189.53966606],\n",
       "       [209.91781835],\n",
       "       [213.83669379],\n",
       "       [267.73079409],\n",
       "       [208.35026818],\n",
       "       [222.43769149],\n",
       "       [224.00524167],\n",
       "       [187.18834079],\n",
       "       [184.83701553],\n",
       "       [195.33579145],\n",
       "       [194.55201637],\n",
       "       [205.99894291],\n",
       "       [204.43139274],\n",
       "       [202.86384256],\n",
       "       [205.99894291],\n",
       "       [184.83701553],\n",
       "       [184.83701553],\n",
       "       [160.68531204],\n",
       "       [198.47089181],\n",
       "       [199.25466689],\n",
       "       [222.43769149],\n",
       "       [225.57279185],\n",
       "       [252.83906742],\n",
       "       [186.40456571],\n",
       "       [185.62079062],\n",
       "       [266.94701901],\n",
       "       [214.62046888],\n",
       "       [229.51219556],\n",
       "       [214.62046888],\n",
       "       [263.81191865],\n",
       "       [245.93041587],\n",
       "       [224.78901676],\n",
       "       [227.14034202],\n",
       "       [252.98439166],\n",
       "       [244.836941  ],\n",
       "       [252.98439166],\n",
       "       [253.45846697],\n",
       "       [254.55194184],\n",
       "       [255.02601715],\n",
       "       [254.55194184],\n",
       "       [252.67469188],\n",
       "       [268.35019365]])"
      ]
     },
     "execution_count": 49,
     "metadata": {},
     "output_type": "execute_result"
    }
   ],
   "source": [
    "model.predict(xtest)"
   ]
  },
  {
   "cell_type": "code",
   "execution_count": null,
   "metadata": {},
   "outputs": [],
   "source": []
  }
 ],
 "metadata": {
  "interpreter": {
   "hash": "14a336a61cfaefff504b47e2b8e6e50961f0feafa7b211f8ff23081790c52144"
  },
  "kernelspec": {
   "display_name": "Python 3 (ipykernel)",
   "language": "python",
   "name": "python3"
  },
  "language_info": {
   "codemirror_mode": {
    "name": "ipython",
    "version": 3
   },
   "file_extension": ".py",
   "mimetype": "text/x-python",
   "name": "python",
   "nbconvert_exporter": "python",
   "pygments_lexer": "ipython3",
   "version": "3.10.1"
  }
 },
 "nbformat": 4,
 "nbformat_minor": 2
}
